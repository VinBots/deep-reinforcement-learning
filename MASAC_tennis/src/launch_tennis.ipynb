{
 "cells": [
  {
   "cell_type": "code",
   "execution_count": null,
   "metadata": {},
   "outputs": [],
   "source": [
    "import Game_Utils.game\n",
    "import Agents.multiple_agents\n",
    "\n",
    "my_game = Game_Utils.game.Game(name=\"Unity Tennis\", solve_score=1.5, state_dim = 24, action_dim=2,\\\n",
    "               num_agents=2,num_steps_per_epoch = 1000)\n",
    "ma = Agents.multiple_agents.Multiple_Agents(game = my_game,replay_buffer_size=50000,batch_size=256,\\\n",
    "                     load_mode=True,save_mode=True, episods_before_update=10)\n",
    "ma.training(num_epochs = 3000,training_mode=True)"
   ]
  },
  {
   "cell_type": "code",
   "execution_count": null,
   "metadata": {},
   "outputs": [],
   "source": []
  }
 ],
 "metadata": {
  "kernelspec": {
   "display_name": "drlnd",
   "language": "python",
   "name": "drlnd"
  },
  "language_info": {
   "codemirror_mode": {
    "name": "ipython",
    "version": 3
   },
   "file_extension": ".py",
   "mimetype": "text/x-python",
   "name": "python",
   "nbconvert_exporter": "python",
   "pygments_lexer": "ipython3",
   "version": "3.6.12"
  }
 },
 "nbformat": 4,
 "nbformat_minor": 4
}
