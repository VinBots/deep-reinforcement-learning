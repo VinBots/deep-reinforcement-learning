{
 "cells": [
  {
   "cell_type": "markdown",
   "metadata": {},
   "source": [
    "# Continuous Control\n",
    "\n",
    "---\n",
    "\n",
    "In this notebook, you will learn how to use the Unity ML-Agents environment for the second project of the [Deep Reinforcement Learning Nanodegree](https://www.udacity.com/course/deep-reinforcement-learning-nanodegree--nd893) program.\n",
    "\n",
    "### 1. Start the Environment\n",
    "\n",
    "We begin by importing the necessary packages.  If the code cell below returns an error, please revisit the project instructions to double-check that you have installed [Unity ML-Agents](https://github.com/Unity-Technologies/ml-agents/blob/master/docs/Installation.md) and [NumPy](http://www.numpy.org/)."
   ]
  },
  {
   "cell_type": "code",
   "execution_count": 1,
   "metadata": {},
   "outputs": [],
   "source": [
    "from unityagents import UnityEnvironment\n",
    "import numpy as np"
   ]
  },
  {
   "cell_type": "markdown",
   "metadata": {},
   "source": [
    "Next, we will start the environment!  **_Before running the code cell below_**, change the `file_name` parameter to match the location of the Unity environment that you downloaded.\n",
    "\n",
    "- **Mac**: `\"path/to/Reacher.app\"`\n",
    "- **Windows** (x86): `\"path/to/Reacher_Windows_x86/Reacher.exe\"`\n",
    "- **Windows** (x86_64): `\"path/to/Reacher_Windows_x86_64/Reacher.exe\"`\n",
    "- **Linux** (x86): `\"path/to/Reacher_Linux/Reacher.x86\"`\n",
    "- **Linux** (x86_64): `\"path/to/Reacher_Linux/Reacher.x86_64\"`\n",
    "- **Linux** (x86, headless): `\"path/to/Reacher_Linux_NoVis/Reacher.x86\"`\n",
    "- **Linux** (x86_64, headless): `\"path/to/Reacher_Linux_NoVis/Reacher.x86_64\"`\n",
    "\n",
    "For instance, if you are using a Mac, then you downloaded `Reacher.app`.  If this file is in the same folder as the notebook, then the line below should appear as follows:\n",
    "```\n",
    "env = UnityEnvironment(file_name=\"Reacher.app\")\n",
    "```"
   ]
  },
  {
   "cell_type": "code",
   "execution_count": 2,
   "metadata": {},
   "outputs": [
    {
     "name": "stderr",
     "output_type": "stream",
     "text": [
      "INFO:unityagents:\n",
      "'Academy' started successfully!\n",
      "Unity Academy name: Academy\n",
      "        Number of Brains: 1\n",
      "        Number of External Brains : 1\n",
      "        Lesson number : 0\n",
      "        Reset Parameters :\n",
      "\t\tgoal_speed -> 1.0\n",
      "\t\tgoal_size -> 5.0\n",
      "Unity brain name: ReacherBrain\n",
      "        Number of Visual Observations (per agent): 0\n",
      "        Vector Observation space type: continuous\n",
      "        Vector Observation space size (per agent): 33\n",
      "        Number of stacked Vector Observation: 1\n",
      "        Vector Action space type: continuous\n",
      "        Vector Action space size (per agent): 4\n",
      "        Vector Action descriptions: , , , \n"
     ]
    }
   ],
   "source": [
    "env = UnityEnvironment(file_name=\"Reacher.app\")"
   ]
  },
  {
   "cell_type": "markdown",
   "metadata": {},
   "source": [
    "Environments contain **_brains_** which are responsible for deciding the actions of their associated agents. Here we check for the first brain available, and set it as the default brain we will be controlling from Python."
   ]
  },
  {
   "cell_type": "code",
   "execution_count": 3,
   "metadata": {},
   "outputs": [],
   "source": [
    "# get the default brain\n",
    "brain_name = env.brain_names[0]\n",
    "brain = env.brains[brain_name]"
   ]
  },
  {
   "cell_type": "markdown",
   "metadata": {},
   "source": [
    "### 2. Examine the State and Action Spaces\n",
    "\n",
    "In this environment, a double-jointed arm can move to target locations. A reward of `+0.1` is provided for each step that the agent's hand is in the goal location. Thus, the goal of your agent is to maintain its position at the target location for as many time steps as possible.\n",
    "\n",
    "The observation space consists of `33` variables corresponding to position, rotation, velocity, and angular velocities of the arm.  Each action is a vector with four numbers, corresponding to torque applicable to two joints.  Every entry in the action vector must be a number between `-1` and `1`.\n",
    "\n",
    "Run the code cell below to print some information about the environment."
   ]
  },
  {
   "cell_type": "code",
   "execution_count": 4,
   "metadata": {},
   "outputs": [
    {
     "name": "stdout",
     "output_type": "stream",
     "text": [
      "Number of agents: 1\n",
      "Size of each action: 4\n",
      "There are 1 agents. Each observes a state with length: 33\n",
      "The state for the first agent looks like: [ 0.00000000e+00 -4.00000000e+00  0.00000000e+00  1.00000000e+00\n",
      " -0.00000000e+00 -0.00000000e+00 -4.37113883e-08  0.00000000e+00\n",
      "  0.00000000e+00  0.00000000e+00  0.00000000e+00  0.00000000e+00\n",
      "  0.00000000e+00  0.00000000e+00 -1.00000000e+01  0.00000000e+00\n",
      "  1.00000000e+00 -0.00000000e+00 -0.00000000e+00 -4.37113883e-08\n",
      "  0.00000000e+00  0.00000000e+00  0.00000000e+00  0.00000000e+00\n",
      "  0.00000000e+00  0.00000000e+00  5.75471878e+00 -1.00000000e+00\n",
      "  5.55726671e+00  0.00000000e+00  1.00000000e+00  0.00000000e+00\n",
      " -1.68164849e-01]\n"
     ]
    }
   ],
   "source": [
    "# reset the environment\n",
    "env_info = env.reset(train_mode=True)[brain_name]\n",
    "\n",
    "# number of agents\n",
    "num_agents = len(env_info.agents)\n",
    "print('Number of agents:', num_agents)\n",
    "\n",
    "# size of each action\n",
    "action_size = brain.vector_action_space_size\n",
    "print('Size of each action:', action_size)\n",
    "\n",
    "# examine the state space \n",
    "states = env_info.vector_observations\n",
    "state_size = states.shape[1]\n",
    "print('There are {} agents. Each observes a state with length: {}'.format(states.shape[0], state_size))\n",
    "print('The state for the first agent looks like:', states[0])"
   ]
  },
  {
   "cell_type": "code",
   "execution_count": 5,
   "metadata": {},
   "outputs": [
    {
     "name": "stdout",
     "output_type": "stream",
     "text": [
      "Neural Network - Input: 33, Hidden Layer 1 64, Hidden Layer 1 32, Output 4\n"
     ]
    }
   ],
   "source": [
    "import random\n",
    "import torch\n",
    "import numpy as np\n",
    "from collections import deque\n",
    "import matplotlib.pyplot as plt\n",
    "%matplotlib inline\n",
    "import torch.nn as nn\n",
    "import torch.nn.functional as F\n",
    "import math\n",
    "\n",
    "device = torch.device(\"cuda:0\" if torch.cuda.is_available() else \"cpu\")\n",
    "\n",
    "env_info = env.reset(train_mode=True)[brain_name]      # reset the environment    \n",
    "\n",
    "class Agent(nn.Module):\n",
    "    def __init__(self, h1_size=64, h2_size=32):\n",
    "        super(Agent, self).__init__()\n",
    "        #self.env = env\n",
    "        # state, hidden layer, action sizes\n",
    "        self.s_size = 33 #env_info.vector_observations.shape[1]\n",
    "        self.h1_size = h1_size\n",
    "        self.h2_size = h2_size\n",
    "        self.a_size = 4 #env.action_space.n-1\n",
    "        print(\"Neural Network - Input: {}, Hidden Layer 1 {}, Hidden Layer 1 {}, Output {}\".format(self.s_size, self.h1_size,self.h2_size, self.a_size))\n",
    "        # define layers\n",
    "        self.fc1 = nn.Linear(self.s_size, self.h1_size)\n",
    "        self.fc2 = nn.Linear(self.h1_size, self.h2_size)\n",
    "        self.fc3 = nn.Linear(self.h2_size, self.a_size)\n",
    "        \n",
    "    def set_weights(self, weights):\n",
    "        s_size = self.s_size\n",
    "        h1_size = self.h1_size\n",
    "        h2_size = self.h2_size\n",
    "        a_size = self.a_size\n",
    "        \n",
    "        # separate the weights for each layer\n",
    "        fc1_end = (s_size*h1_size)+h1_size\n",
    "        fc1_W = torch.from_numpy(weights[:s_size*h1_size].reshape(s_size, h1_size))\n",
    "        fc1_b = torch.from_numpy(weights[s_size*h1_size:fc1_end])\n",
    "        \n",
    "        fc2_end = fc1_end + (h1_size*h2_size)+h2_size\n",
    "        fc2_W = torch.from_numpy(weights[fc1_end:fc1_end + h1_size*h2_size].reshape(h1_size, h2_size)) #h1-size * h2-size Ws\n",
    "        fc2_b = torch.from_numpy(weights[fc1_end + h1_size*h2_size:fc2_end]) #h2-size bias\n",
    "        \n",
    "        fc3_W = torch.from_numpy(weights[fc2_end:fc2_end+(h2_size*a_size)].reshape(h2_size, a_size))\n",
    "        fc3_b = torch.from_numpy(weights[fc2_end+(h2_size*a_size):])\n",
    "                \n",
    "        # set the weights for each layer\n",
    "        self.fc1.weight.data.copy_(fc1_W.view_as(self.fc1.weight.data))\n",
    "        self.fc1.bias.data.copy_(fc1_b.view_as(self.fc1.bias.data))\n",
    "        \n",
    "        self.fc2.weight.data.copy_(fc2_W.view_as(self.fc2.weight.data))\n",
    "        self.fc2.bias.data.copy_(fc2_b.view_as(self.fc2.bias.data))\n",
    "        \n",
    "        self.fc3.weight.data.copy_(fc3_W.view_as(self.fc3.weight.data))\n",
    "        self.fc3.bias.data.copy_(fc3_b.view_as(self.fc3.bias.data))\n",
    "        \n",
    "    \n",
    "    def get_weights_dim(self):\n",
    "        return (self.s_size+1)*self.h1_size +(self.h1_size + 1)*self.h2_size +(self.h2_size+1)*self.a_size\n",
    "        \n",
    "    def forward(self, x):\n",
    "        x = F.tanh(self.fc1(x))\n",
    "        x = F.tanh(self.fc2(x))\n",
    "        x = F.tanh(self.fc3(x)) #values between -1 and 1\n",
    "        return x.cpu().data.numpy().reshape(1,4)\n",
    "\n",
    "        \n",
    "    def evaluate(self, weights, gamma=1.0, max_t=5000):\n",
    "        self.set_weights(weights)\n",
    "        episode_return = 0.0\n",
    "        \n",
    "        #state = self.env.reset()\n",
    "        \n",
    "        env_info = env.reset(train_mode=True)[brain_name]\n",
    "        state = env_info.vector_observations\n",
    "        \n",
    "        for t in range(max_t):\n",
    "            state = torch.from_numpy(state).float().to(device)\n",
    "            actions = self.forward(state)\n",
    "            env_info = env.step(actions)[brain_name]           # send action to the environment\n",
    "            \n",
    "            next_state = env_info.vector_observations[0]         # get next state (for each agent)\n",
    "            reward = env_info.rewards[0]                         # get reward (for each agent)\n",
    "            done = env_info.local_done[0]                        # see if episode finished \n",
    "            #state, reward, done, _ = self.env.step(action)\n",
    "            \n",
    "            episode_return += reward * math.pow(gamma, t)\n",
    "            state = next_state\n",
    "            if done:\n",
    "                break\n",
    "        return episode_return\n",
    "    \n",
    "agent = Agent().to(device)"
   ]
  },
  {
   "cell_type": "code",
   "execution_count": 6,
   "metadata": {},
   "outputs": [
    {
     "data": {
      "text/plain": [
       "4388"
      ]
     },
     "execution_count": 6,
     "metadata": {},
     "output_type": "execute_result"
    }
   ],
   "source": [
    "agent.get_weights_dim()"
   ]
  },
  {
   "cell_type": "code",
   "execution_count": 7,
   "metadata": {
    "scrolled": true
   },
   "outputs": [
    {
     "name": "stdout",
     "output_type": "stream",
     "text": [
      "Episode 1\t Real Score: 0.55\n",
      "Episode 2\t Real Score: 1.35\n",
      "Episode 3\t Real Score: 1.09\n",
      "Episode 4\t Real Score: 2.36\n",
      "Episode 5\t Real Score: 1.55\n",
      "Episode 6\t Real Score: 0.70\n",
      "Episode 7\t Real Score: 0.98\n",
      "Episode 8\t Real Score: 1.19\n",
      "Episode 9\t Real Score: 0.07\n",
      "Episode 10\t Real Score: 0.80\n",
      "Episode 10\tAverage Score: 1.06\n",
      "Episode 11\t Real Score: 0.40\n",
      "Episode 12\t Real Score: 1.25\n",
      "Episode 13\t Real Score: 0.11\n",
      "Episode 14\t Real Score: 1.86\n",
      "Episode 15\t Real Score: 2.38\n",
      "Episode 16\t Real Score: 0.40\n",
      "Episode 17\t Real Score: 1.26\n",
      "Episode 18\t Real Score: 1.26\n",
      "Episode 19\t Real Score: 0.00\n",
      "Episode 20\t Real Score: 1.57\n",
      "Episode 20\tAverage Score: 1.06\n",
      "Episode 21\t Real Score: 0.85\n",
      "Episode 22\t Real Score: 0.99\n",
      "Episode 23\t Real Score: 0.66\n",
      "Episode 24\t Real Score: 2.11\n",
      "Episode 25\t Real Score: 3.79\n",
      "Episode 26\t Real Score: 2.35\n",
      "Episode 27\t Real Score: 1.86\n",
      "Episode 28\t Real Score: 2.40\n",
      "Episode 29\t Real Score: 1.55\n",
      "Episode 30\t Real Score: 0.65\n",
      "Episode 30\tAverage Score: 1.38\n",
      "Episode 31\t Real Score: 1.17\n",
      "Episode 32\t Real Score: 3.55\n",
      "Episode 33\t Real Score: 1.83\n",
      "Episode 34\t Real Score: 2.27\n",
      "Episode 35\t Real Score: 0.87\n",
      "Episode 36\t Real Score: 3.55\n",
      "Episode 37\t Real Score: 2.66\n",
      "Episode 38\t Real Score: 2.41\n",
      "Episode 39\t Real Score: 2.16\n",
      "Episode 40\t Real Score: 2.51\n",
      "Episode 40\tAverage Score: 2.01\n",
      "Episode 41\t Real Score: 1.94\n",
      "Episode 42\t Real Score: 0.59\n",
      "Episode 43\t Real Score: 2.09\n",
      "Episode 44\t Real Score: 0.94\n",
      "Episode 45\t Real Score: 2.17\n",
      "Episode 46\t Real Score: 0.08\n",
      "Episode 47\t Real Score: 1.78\n",
      "Episode 48\t Real Score: 1.82\n",
      "Episode 49\t Real Score: 1.90\n",
      "Episode 50\t Real Score: 1.92\n",
      "Episode 50\tAverage Score: 1.91\n",
      "Episode 51\t Real Score: 1.35\n",
      "Episode 52\t Real Score: 2.12\n",
      "Episode 53\t Real Score: 1.25\n",
      "Episode 54\t Real Score: 0.74\n",
      "Episode 55\t Real Score: 3.00\n",
      "Episode 56\t Real Score: 2.42\n",
      "Episode 57\t Real Score: 0.37\n",
      "Episode 58\t Real Score: 1.15\n",
      "Episode 59\t Real Score: 2.83\n",
      "Episode 60\t Real Score: 0.31\n",
      "Episode 60\tAverage Score: 1.54\n",
      "Episode 61\t Real Score: 2.70\n",
      "Episode 62\t Real Score: 1.40\n",
      "Episode 63\t Real Score: 3.97\n",
      "Episode 64\t Real Score: 1.71\n",
      "Episode 65\t Real Score: 1.07\n",
      "Episode 66\t Real Score: 2.42\n",
      "Episode 67\t Real Score: 1.47\n",
      "Episode 68\t Real Score: 0.77\n",
      "Episode 69\t Real Score: 0.77\n",
      "Episode 70\t Real Score: 1.89\n",
      "Episode 70\tAverage Score: 1.69\n",
      "Episode 71\t Real Score: 1.89\n",
      "Episode 72\t Real Score: 3.20\n",
      "Episode 73\t Real Score: 2.48\n",
      "Episode 74\t Real Score: 3.19\n",
      "Episode 75\t Real Score: 4.71\n",
      "Episode 76\t Real Score: 0.78\n",
      "Episode 77\t Real Score: 2.25\n",
      "Episode 78\t Real Score: 2.33\n",
      "Episode 79\t Real Score: 2.08\n",
      "Episode 80\t Real Score: 3.91\n",
      "Episode 80\tAverage Score: 2.25\n",
      "Episode 81\t Real Score: 0.78\n",
      "Episode 82\t Real Score: 2.45\n",
      "Episode 83\t Real Score: 0.38\n",
      "Episode 84\t Real Score: 0.58\n",
      "Episode 85\t Real Score: 2.40\n",
      "Episode 86\t Real Score: 0.54\n",
      "Episode 87\t Real Score: 2.53\n",
      "Episode 88\t Real Score: 1.90\n",
      "Episode 89\t Real Score: 1.06\n",
      "Episode 90\t Real Score: 2.11\n",
      "Episode 90\tAverage Score: 2.08\n",
      "Episode 91\t Real Score: 4.31\n",
      "Episode 92\t Real Score: 1.56\n",
      "Episode 93\t Real Score: 3.97\n",
      "Episode 94\t Real Score: 2.51\n",
      "Episode 95\t Real Score: 0.37\n",
      "Episode 96\t Real Score: 2.16\n",
      "Episode 97\t Real Score: 1.70\n",
      "Episode 98\t Real Score: 4.10\n",
      "Episode 99\t Real Score: 3.81\n",
      "Episode 100\t Real Score: 5.46\n",
      "Episode 100\tAverage Score: 2.23\n"
     ]
    },
    {
     "data": {
      "image/png": "[encoded data removed]",
      "text/plain": [
       "<Figure size 432x288 with 1 Axes>"
      ]
     },
     "metadata": {
      "needs_background": "light"
     },
     "output_type": "display_data"
    }
   ],
   "source": [
    "def evolutive (n_iterations=100, max_t=1000, gamma=1.0, print_every=10, pop_size=50, elite_frac=0.2, sigma=0.5):\n",
    "    \"\"\"PyTorch implementation of the cross-entropy method.\n",
    "        \n",
    "    Params\n",
    "    ======\n",
    "        n_iterations (int): maximum number of training iterations\n",
    "        max_t (int): maximum number of timesteps per episode\n",
    "        gamma (float): discount rate\n",
    "        print_every (int): how often to print average score (over last 100 episodes)\n",
    "        pop_size (int): size of population at each iteration\n",
    "        elite_frac (float): percentage of top performers to use in update\n",
    "        sigma (float): standard deviation of additive noise\n",
    "    \"\"\"\n",
    "    n_elite=int(pop_size*elite_frac)\n",
    "\n",
    "    scores_deque = deque(maxlen=20)\n",
    "    scores = []\n",
    "    best_weight = sigma*np.random.randn(agent.get_weights_dim())\n",
    "\n",
    "    for i_iteration in range(1, n_iterations+1):\n",
    "        sigma*=.99\n",
    "        weights_pop = [best_weight + (sigma*np.random.randn(agent.get_weights_dim())) for i in range(pop_size)]\n",
    "        \n",
    "        rewards = np.array([agent.evaluate(weights, gamma, max_t) for weights in weights_pop])\n",
    "        \n",
    "        elite_idxs = rewards.argsort()[-n_elite:]\n",
    "        elite_rewards=[rewards[i] for i in elite_idxs]\n",
    "        elite_rewards +=- min(elite_rewards)+1 # no negative numbers\n",
    "        elite_weights = [weights_pop[i] for i in elite_idxs]    \n",
    "        \n",
    "        best_weight = np.average(np.array(elite_weights),axis = 0, weights=elite_rewards)\n",
    "        \n",
    "        reward = agent.evaluate(best_weight, gamma=1.0)\n",
    "        \n",
    "        scores_deque.append(reward)\n",
    "        scores.append(reward)\n",
    "        \n",
    "        torch.save(agent.state_dict(), 'checkpoint.pth')\n",
    "        print('Episode {}\\t Real Score: {:.2f}'.format(i_iteration, reward))\n",
    "        if i_iteration % print_every == 0:\n",
    "            print('Episode {}\\tAverage Score: {:.2f}'.format(i_iteration, np.mean(scores_deque)))\n",
    "\n",
    "        if np.mean(scores_deque)>=30.0:\n",
    "            print('\\nEnvironment solved in {:d} iterations!\\tAverage Score: {:.2f}'.format(i_iteration-20, np.mean(scores_deque)))\n",
    "            break\n",
    "    return scores\n",
    "\n",
    "scores = evolutive()\n",
    "\n",
    "# plot the scores\n",
    "fig = plt.figure()\n",
    "ax = fig.add_subplot(111)\n",
    "plt.plot(np.arange(1, len(scores)+1), scores)\n",
    "plt.ylabel('Score')\n",
    "plt.xlabel('Episode #')\n",
    "plt.show()"
   ]
  },
  {
   "cell_type": "code",
   "execution_count": null,
   "metadata": {},
   "outputs": [],
   "source": []
  },
  {
   "cell_type": "markdown",
   "metadata": {},
   "source": [
    "### 3. Take Random Actions in the Environment\n",
    "\n",
    "In the next code cell, you will learn how to use the Python API to control the agent and receive feedback from the environment.\n",
    "\n",
    "Once this cell is executed, you will watch the agent's performance, if it selects an action at random with each time step.  A window should pop up that allows you to observe the agent, as it moves through the environment.  \n",
    "\n",
    "Of course, as part of the project, you'll have to change the code so that the agent is able to use its experience to gradually choose better actions when interacting with the environment!"
   ]
  },
  {
   "cell_type": "code",
   "execution_count": null,
   "metadata": {},
   "outputs": [],
   "source": [
    "env_info = env.reset(train_mode=False)[brain_name]     # reset the environment    \n",
    "states = env_info.vector_observations                  # get the current state (for each agent)\n",
    "scores = np.zeros(num_agents)                          # initialize the score (for each agent)\n",
    "while True:\n",
    "    actions = np.random.randn(num_agents, action_size) # select an action (for each agent)\n",
    "    actions = np.clip(actions, -1, 1)                  # all actions between -1 and 1\n",
    "    env_info = env.step(actions)[brain_name]           # send all actions to tne environment\n",
    "    next_states = env_info.vector_observations         # get next state (for each agent)\n",
    "    rewards = env_info.rewards                         # get reward (for each agent)\n",
    "    dones = env_info.local_done                        # see if episode finished\n",
    "    scores += env_info.rewards                         # update the score (for each agent)\n",
    "    states = next_states                               # roll over states to next time step\n",
    "    if np.any(dones):                                  # exit loop if episode finished\n",
    "        break\n",
    "print('Total score (averaged over agents) this episode: {}'.format(np.mean(scores)))"
   ]
  },
  {
   "cell_type": "markdown",
   "metadata": {},
   "source": [
    "When finished, you can close the environment."
   ]
  },
  {
   "cell_type": "code",
   "execution_count": null,
   "metadata": {},
   "outputs": [],
   "source": [
    "env.close()"
   ]
  },
  {
   "cell_type": "markdown",
   "metadata": {},
   "source": [
    "### 4. It's Your Turn!\n",
    "\n",
    "Now it's your turn to train your own agent to solve the environment!  When training the environment, set `train_mode=True`, so that the line for resetting the environment looks like the following:\n",
    "```python\n",
    "env_info = env.reset(train_mode=True)[brain_name]\n",
    "```"
   ]
  }
 ],
 "metadata": {
  "kernelspec": {
   "display_name": "drlnd",
   "language": "python",
   "name": "drlnd"
  },
  "language_info": {
   "codemirror_mode": {
    "name": "ipython",
    "version": 3
   },
   "file_extension": ".py",
   "mimetype": "text/x-python",
   "name": "python",
   "nbconvert_exporter": "python",
   "pygments_lexer": "ipython3",
   "version": "3.6.12"
  }
 },
 "nbformat": 4,
 "nbformat_minor": 2
}
